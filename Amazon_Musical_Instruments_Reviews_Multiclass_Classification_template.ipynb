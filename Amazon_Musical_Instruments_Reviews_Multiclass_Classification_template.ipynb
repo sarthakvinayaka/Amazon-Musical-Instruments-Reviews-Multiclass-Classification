{
  "nbformat": 4,
  "nbformat_minor": 0,
  "metadata": {
    "colab": {
      "name": "Amazon Musical Instruments Reviews Multiclass Classification template.ipynb",
      "provenance": []
    },
    "kernelspec": {
      "name": "python3",
      "display_name": "Python 3"
    }
  },
  "cells": [
    {
      "cell_type": "markdown",
      "metadata": {
        "id": "LpYUEk9333xr",
        "colab_type": "text"
      },
      "source": [
        "## **Amazon Musical Instruments Reviews-classification**\n",
        "\n",
        "\n",
        "\n",
        "The data set contains 10,261 instrument reviews from Amazon Database with rating labeled from 1 to 5. \n",
        "\n",
        "**Task is to build a prediction model that will accurately classify which review are positive, Neutral and negative**"
      ]
    },
    {
      "cell_type": "markdown",
      "metadata": {
        "id": "v9u0hbgk3-75",
        "colab_type": "text"
      },
      "source": [
        "## **Steps:**\n",
        "- Importing Libraries\n",
        "- Uploading  dataset\n",
        "- Analyze dataset\n",
        "- Preprocessing data\n",
        " - Tokenize \n",
        " - Text to sequence\n",
        " - Padding or truncating \n",
        "- Building model\n",
        "- Training model and validating model\n",
        "\n",
        "- Conclusion\n"
      ]
    },
    {
      "cell_type": "markdown",
      "metadata": {
        "id": "NEpnYsQt4DTi",
        "colab_type": "text"
      },
      "source": [
        "## **Importing required Libraries**"
      ]
    },
    {
      "cell_type": "code",
      "metadata": {
        "id": "RdLvCeoj3uiB",
        "colab_type": "code",
        "colab": {}
      },
      "source": [
        "import tensorflow as tf\n",
        "from tensorflow.keras.preprocessing.text import Tokenizer\n",
        "from tensorflow.keras.preprocessing.sequence import pad_sequences\n",
        "import tensorflow_datasets as tfds\n",
        "import numpy as np\n",
        "import pandas as pd\n",
        "import matplotlib.pyplot as plt\n",
        "from sklearn.model_selection import train_test_split\n",
        "from sklearn import preprocessing\n",
        "from sklearn.feature_extraction.text import CountVectorizer\n",
        "from keras.models import Sequential\n",
        "from keras.layers import Dense\n",
        "from keras.utils import to_categorical\n",
        "from tensorflow.keras.layers import Embedding"
      ],
      "execution_count": 0,
      "outputs": []
    },
    {
      "cell_type": "markdown",
      "metadata": {
        "id": "4X1O-Ng94IE5",
        "colab_type": "text"
      },
      "source": [
        "## **Uploading Dataset**"
      ]
    },
    {
      "cell_type": "code",
      "metadata": {
        "id": "RsO9i4Qg4MrZ",
        "colab_type": "code",
        "colab": {}
      },
      "source": [
        "data = #Upload data using pandas method"
      ],
      "execution_count": 0,
      "outputs": []
    },
    {
      "cell_type": "code",
      "metadata": {
        "id": "Vzo0fTht4SJx",
        "colab_type": "code",
        "colab": {}
      },
      "source": [
        "# Display the top 5 rows and column\n",
        "# Write your one line code here"
      ],
      "execution_count": 0,
      "outputs": []
    },
    {
      "cell_type": "code",
      "metadata": {
        "id": "cHKDmTDo4UZB",
        "colab_type": "code",
        "colab": {}
      },
      "source": [
        "# Describe the data using describe method \n",
        "# Write your one line code here   "
      ],
      "execution_count": 0,
      "outputs": []
    },
    {
      "cell_type": "code",
      "metadata": {
        "id": "gowYLq8w4afo",
        "colab_type": "code",
        "colab": {}
      },
      "source": [
        "# Deleting columns which will not required\n",
        "del data['reviewerID']\n",
        "del data['asin']\n",
        "del data['reviewerName']\n",
        "del data['helpful']\n",
        "del data['unixReviewTime']\n",
        "del data['reviewTime']"
      ],
      "execution_count": 0,
      "outputs": []
    },
    {
      "cell_type": "code",
      "metadata": {
        "id": "YDxE3J8b4bqY",
        "colab_type": "code",
        "colab": {}
      },
      "source": [
        "#Checking if columns were deleted\n",
        "# Write your one line code here"
      ],
      "execution_count": 0,
      "outputs": []
    },
    {
      "cell_type": "markdown",
      "metadata": {
        "id": "fkcWKlhq4oOv",
        "colab_type": "text"
      },
      "source": [
        "## **Analyze Data**\n",
        "\n",
        "- Make histogram by the frequency of words"
      ]
    },
    {
      "cell_type": "code",
      "metadata": {
        "id": "_P-lzUVu4slQ",
        "colab_type": "code",
        "colab": {}
      },
      "source": [
        "# Display hitogram of data rating \"overall\""
      ],
      "execution_count": 0,
      "outputs": []
    },
    {
      "cell_type": "code",
      "metadata": {
        "id": "jicShbh34tkY",
        "colab_type": "code",
        "colab": {}
      },
      "source": [
        "# Replacing ratings of 1 with 0 (not good) and 2,3 with 1 (neutral) and 4,5 with 2 (Good)\n",
        "\n",
        "# Write your code here"
      ],
      "execution_count": 0,
      "outputs": []
    },
    {
      "cell_type": "code",
      "metadata": {
        "id": "9eV0mUpO408_",
        "colab_type": "code",
        "colab": {}
      },
      "source": [
        "#Checking if values were updated\n",
        "\n",
        "# Write your code here"
      ],
      "execution_count": 0,
      "outputs": []
    },
    {
      "cell_type": "code",
      "metadata": {
        "id": "7E9AOZO846MW",
        "colab_type": "code",
        "colab": {}
      },
      "source": [
        "#Show unique values of overall variable\n",
        "# Write your code here"
      ],
      "execution_count": 0,
      "outputs": []
    },
    {
      "cell_type": "code",
      "metadata": {
        "id": "xDm-VQDM4_uH",
        "colab_type": "code",
        "colab": {}
      },
      "source": [
        "# Display histogram of overall variable\n",
        "# Write your code here"
      ],
      "execution_count": 0,
      "outputs": []
    },
    {
      "cell_type": "code",
      "metadata": {
        "id": "dxcFiWmP5FHP",
        "colab_type": "code",
        "colab": {}
      },
      "source": [
        "# Converting reviewText and summary to string type \n",
        "# Write your code here"
      ],
      "execution_count": 0,
      "outputs": []
    },
    {
      "cell_type": "code",
      "metadata": {
        "id": "XNm4OxVi5KTI",
        "colab_type": "code",
        "colab": {}
      },
      "source": [
        "#plot graph that will show the frequency of words occuring in reviewText"
      ],
      "execution_count": 0,
      "outputs": []
    },
    {
      "cell_type": "code",
      "metadata": {
        "id": "MiAzR-Qg5LPY",
        "colab_type": "code",
        "colab": {}
      },
      "source": [
        "#plot graph that will show the frequency of words occuring in summary"
      ],
      "execution_count": 0,
      "outputs": []
    },
    {
      "cell_type": "markdown",
      "metadata": {
        "id": "pLCwKCe_5Raf",
        "colab_type": "text"
      },
      "source": [
        "## **Preprocessing Data**\n",
        "\n",
        "**Spliting data set as train and test**"
      ]
    },
    {
      "cell_type": "code",
      "metadata": {
        "id": "YSA5xt3U5OW3",
        "colab_type": "code",
        "colab": {}
      },
      "source": [
        "# Accretion of data from reviewText and summary and storing in variable\n",
        "X = data['reviewText'] + ' ' + data['summary']\n",
        "y = data['overall']"
      ],
      "execution_count": 0,
      "outputs": []
    },
    {
      "cell_type": "code",
      "metadata": {
        "id": "lukOWZP75ZZ_",
        "colab_type": "code",
        "colab": {}
      },
      "source": [
        "# Converting variable into Numpy array with string\n",
        "# Write your code here"
      ],
      "execution_count": 0,
      "outputs": []
    },
    {
      "cell_type": "code",
      "metadata": {
        "id": "Q0soFMmf5jYO",
        "colab_type": "code",
        "colab": {}
      },
      "source": [
        "# Split data in train and test with 50 % test data\n",
        "# Write your code here"
      ],
      "execution_count": 0,
      "outputs": []
    },
    {
      "cell_type": "code",
      "metadata": {
        "id": "TslCYBVZ5ofX",
        "colab_type": "code",
        "colab": {}
      },
      "source": [
        "# Display the shape of training sentence and testing sentences\n",
        "# Write your code here"
      ],
      "execution_count": 0,
      "outputs": []
    },
    {
      "cell_type": "markdown",
      "metadata": {
        "id": "eryIEdlU5uZt",
        "colab_type": "text"
      },
      "source": [
        "**Defining variable**\n",
        "\n",
        "Vocab_size : Upper limit of diffrent words (  Note that the vocab_size is specified large enough so as to ensure unique integer encoding for each and every word.)\n",
        "\n",
        "max_length : What will be the maximum length of sentence\n",
        "\n",
        "trunc_type : If sentence exceed max_length then where to truncate a sentence from begining or at end using 'post and 'pre' methods"
      ]
    },
    {
      "cell_type": "code",
      "metadata": {
        "id": "OsipnkSA5wEF",
        "colab_type": "code",
        "colab": {}
      },
      "source": [
        "# these variable value can be changed you should change and see the diffrence in the model.\n",
        "\n",
        "vocab_size=10000 \n",
        "embedding_dim=16\n",
        "max_length=120\n",
        "trunc_type='post' # It can be changed to pre and then see the diffrence in accuracy\n",
        "oov_tok='<OOV>'"
      ],
      "execution_count": 0,
      "outputs": []
    },
    {
      "cell_type": "markdown",
      "metadata": {
        "id": "FBcXRCm952ql",
        "colab_type": "text"
      },
      "source": [
        "**Tokenize sequence**\n",
        "\n",
        " Tokenization is the task of chopping it up into pieces, called tokens.\n",
        "\n",
        " Eg.\n",
        " Input - How are you\n",
        "\n",
        " Output - 'How', 'are', 'you' \n",
        "\n",
        " Here is a sample python code for better understanding\n",
        "\n",
        "\n",
        "\n",
        "```\n",
        " sentences = [\n",
        "    'I love my dog',\n",
        "    'I love my cat so much',\n",
        "    'You love my dog!'\n",
        "]\n",
        "\n",
        "Create object of Tokenizer and tokenize sentences\n",
        "\n",
        "tokenizer = Tokenizer(num_words = 100)  # max distinct words first 100 words\n",
        "tokenizer.fit_on_texts(sentences)\n",
        "```\n",
        "\n",
        "\n"
      ]
    },
    {
      "cell_type": "code",
      "metadata": {
        "id": "pDT1QhGl5zj9",
        "colab_type": "code",
        "colab": {}
      },
      "source": [
        "tokenizer = #Write your code here\n",
        "# Write code to fit on text"
      ],
      "execution_count": 0,
      "outputs": []
    },
    {
      "cell_type": "markdown",
      "metadata": {
        "id": "bVH6gCWn59z8",
        "colab_type": "text"
      },
      "source": [
        "**Text to sequence**\n",
        "\n",
        "\n",
        "texts_to_sequences Transforms each text in texts to a sequence of integers. So it basically takes each word in the text and replaces it with its corresponding integer value from the word_index dictionary. Nothing more, nothing less, certainly no magic involved.\n",
        "\n",
        "Here two function will require text_to_sequences and word_index"
      ]
    },
    {
      "cell_type": "code",
      "metadata": {
        "id": "L8G1_kqr6BT8",
        "colab_type": "code",
        "colab": {}
      },
      "source": [
        "word_index= # Write your code here\n",
        "sequences= # Write your code here"
      ],
      "execution_count": 0,
      "outputs": []
    },
    {
      "cell_type": "markdown",
      "metadata": {
        "id": "HdEZ4T8U6FOF",
        "colab_type": "text"
      },
      "source": [
        "**Padding sequence**\n",
        "\n",
        "The pad_sequences() function in the Keras deep learning library can be used to pad variable length sequences.\n",
        "\n",
        "The pad_sequences() function can also be used to pad sequences to a preferred length that may be longer than any observed sequences.\n",
        "\n",
        "This can be done by specifying the “maxlen” argument to the desired length. Padding will then be performed on all sequences to achieve the desired length, as follows.\n",
        "\n",
        "A sample python code is given below for better understanding.\n",
        "\n",
        "\n",
        "\n",
        "```\n",
        "padded_sequences = pad_sequences(sequences, padding='post',truncating='post',maxlen=5)\n",
        "\n",
        "```\n",
        "\n"
      ]
    },
    {
      "cell_type": "code",
      "metadata": {
        "id": "DbTBSf656EhM",
        "colab_type": "code",
        "colab": {}
      },
      "source": [
        "padded=# Write code to pad train sentences\n",
        "testing_sequences= # Write code to convert test sentences from text to sentence using text_to_sentence method\n",
        "testing_padded= # Write code to pad test sentences"
      ],
      "execution_count": 0,
      "outputs": []
    },
    {
      "cell_type": "markdown",
      "metadata": {
        "id": "5CmXW6xo6QAc",
        "colab_type": "text"
      },
      "source": [
        "**Compairing padded sequence with normal sequence**\n",
        "\n",
        "Print padded sequence and normal sequence to see the diffrence"
      ]
    },
    {
      "cell_type": "code",
      "metadata": {
        "id": "D7EF9bil6SbM",
        "colab_type": "code",
        "colab": {}
      },
      "source": [
        "print(# Write your code here)\n",
        "print(# Write  your code here)"
      ],
      "execution_count": 0,
      "outputs": []
    },
    {
      "cell_type": "markdown",
      "metadata": {
        "id": "Q6S6UL6F6UiN",
        "colab_type": "text"
      },
      "source": [
        "**Integer value corresponding to words**\n",
        "\n",
        "In the below cell there is the list of diffrent words with their corresponding unique index value which we have created using text_to_sequences function in one of the above cell.\n",
        "\n",
        "It can be printed using word_index method"
      ]
    },
    {
      "cell_type": "code",
      "metadata": {
        "id": "DYr9jFZA6Wb9",
        "colab_type": "code",
        "colab": {}
      },
      "source": [
        "# Write your code here"
      ],
      "execution_count": 0,
      "outputs": []
    },
    {
      "cell_type": "markdown",
      "metadata": {
        "id": "UlJpD7gq6Yt8",
        "colab_type": "text"
      },
      "source": [
        "##**Model Building**\n",
        "\n",
        "Here we have used LSTM algorithm\n",
        "\n",
        " ***What is LSTM ?***\n",
        "\n",
        "LSTM stands for long short term memory. It is a model or architecture that extends the memory of recurrent neural networks. Typically, recurrent neural networks have ‘short term memory’ in that they use persistent previous information to be used in the current neural network. Essentially, the previous information is used in the present task. That means we do not have a list of all of the previous information available for the neural node.\n",
        "\n",
        " \n",
        "**No. of layers**\n",
        "\n",
        "We have used 6 hidden layers and 3 output layer with hidden layer activation function as sigmoid and output layer activation function as sigmoid.\n",
        "\n",
        "\n"
      ]
    },
    {
      "cell_type": "code",
      "metadata": {
        "id": "SMygRD6H6b08",
        "colab_type": "code",
        "colab": {}
      },
      "source": [
        "\n",
        "model = tf.keras.Sequential([\n",
        "    # Write your code here to build LSTM model\n",
        "])\n",
        "\n",
        "# Write code here to compile the model"
      ],
      "execution_count": 0,
      "outputs": []
    },
    {
      "cell_type": "code",
      "metadata": {
        "id": "21hVqwtx6kZl",
        "colab_type": "code",
        "colab": {}
      },
      "source": [
        "#Categorize training_labels and testing_labels as we are using multiclass classification"
      ],
      "execution_count": 0,
      "outputs": []
    },
    {
      "cell_type": "code",
      "metadata": {
        "id": "9IiI6eoj6evc",
        "colab_type": "code",
        "colab": {}
      },
      "source": [
        "# Write code to get the summary of model\n"
      ],
      "execution_count": 0,
      "outputs": []
    },
    {
      "cell_type": "markdown",
      "metadata": {
        "id": "HxzfbmuI6z-s",
        "colab_type": "text"
      },
      "source": [
        "##**Training and validating model**\n",
        "\n",
        "1.   We have used 5 epochs to train\n",
        "2.   No of training data = No of validating data = 5130\n",
        "\n"
      ]
    },
    {
      "cell_type": "code",
      "metadata": {
        "id": "nmmffnaz64ZV",
        "colab_type": "code",
        "colab": {}
      },
      "source": [
        "num_epochs = # Define epoch value\n",
        "# Write your code here to fit model"
      ],
      "execution_count": 0,
      "outputs": []
    },
    {
      "cell_type": "code",
      "metadata": {
        "id": "en3gKO6G676j",
        "colab_type": "code",
        "colab": {}
      },
      "source": [
        "#Plot loss and validation loss graph using history method"
      ],
      "execution_count": 0,
      "outputs": []
    },
    {
      "cell_type": "markdown",
      "metadata": {
        "id": "jhTcA-gn7AYM",
        "colab_type": "text"
      },
      "source": [
        "##**Conclusion**"
      ]
    },
    {
      "cell_type": "markdown",
      "metadata": {
        "id": "sgkGyZAp6ge0",
        "colab_type": "text"
      },
      "source": [
        ""
      ]
    }
  ]
}