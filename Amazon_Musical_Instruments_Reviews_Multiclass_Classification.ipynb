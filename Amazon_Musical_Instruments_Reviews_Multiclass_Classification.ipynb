{
  "nbformat": 4,
  "nbformat_minor": 0,
  "metadata": {
    "colab": {
      "name": "Amazon Musical Instruments Reviews Multiclass Classification.ipynb",
      "provenance": []
    },
    "kernelspec": {
      "name": "python3",
      "display_name": "Python 3"
    }
  },
  "cells": [
    {
      "cell_type": "markdown",
      "metadata": {
        "id": "75zsW5y2wD9Y",
        "colab_type": "text"
      },
      "source": [
        "## **Amazon Musical Instruments Reviews-classification**\n",
        "\n",
        "\n",
        "\n",
        "The data set contains 10,261 instrument reviews from Amazon Database with rating labeled from 1 to 5. \n",
        "\n",
        "**Task is to build a prediction model that will accurately classify which review are positive, Neutral and negative**"
      ]
    },
    {
      "cell_type": "markdown",
      "metadata": {
        "id": "V-jYaMx6xHjE",
        "colab_type": "text"
      },
      "source": [
        "## **Steps:**\n",
        "- Importing Libraries\n",
        "- Uploading  dataset\n",
        "- Analyze dataset\n",
        "- Preprocessing data\n",
        " - Tokenize \n",
        " - Text to sequence\n",
        " - Padding or truncating \n",
        "- Building model\n",
        "- Training model and validating model\n",
        "\n",
        "- Conclusion\n"
      ]
    },
    {
      "cell_type": "markdown",
      "metadata": {
        "id": "0pzbMvHlxSa2",
        "colab_type": "text"
      },
      "source": [
        "## **Importing required Libraries**"
      ]
    },
    {
      "cell_type": "code",
      "metadata": {
        "id": "_21Z6q1JTi7l",
        "colab_type": "code",
        "colab": {
          "base_uri": "https://localhost:8080/",
          "height": 35
        },
        "outputId": "f7143807-471e-44bd-9ca6-51eddeecfd85"
      },
      "source": [
        "import tensorflow as tf\n",
        "from tensorflow.keras.preprocessing.text import Tokenizer\n",
        "from tensorflow.keras.preprocessing.sequence import pad_sequences\n",
        "import tensorflow_datasets as tfds\n",
        "import numpy as np\n",
        "import pandas as pd\n",
        "import matplotlib.pyplot as plt\n",
        "from sklearn.model_selection import train_test_split\n",
        "from sklearn import preprocessing\n",
        "from sklearn.feature_extraction.text import CountVectorizer\n",
        "from keras.models import Sequential\n",
        "from keras.layers import Dense\n",
        "from tensorflow.keras.layers import Embedding"
      ],
      "execution_count": 1,
      "outputs": [
        {
          "output_type": "stream",
          "text": [
            "Using TensorFlow backend.\n"
          ],
          "name": "stderr"
        }
      ]
    },
    {
      "cell_type": "markdown",
      "metadata": {
        "id": "By83DGsgxl_F",
        "colab_type": "text"
      },
      "source": [
        "## **Uploading Dataset**"
      ]
    },
    {
      "cell_type": "code",
      "metadata": {
        "id": "Ebaj1SmRX7pa",
        "colab_type": "code",
        "colab": {}
      },
      "source": [
        "data = pd.read_csv('/content/Musical_instruments_reviews.csv')\n"
      ],
      "execution_count": 0,
      "outputs": []
    },
    {
      "cell_type": "code",
      "metadata": {
        "id": "3PwuFvTpYiGp",
        "colab_type": "code",
        "outputId": "844a6487-aabf-4ae8-e5bf-6ffb3e007245",
        "colab": {
          "base_uri": "https://localhost:8080/",
          "height": 529
        }
      },
      "source": [
        "#Display the top 5 rows and column\n",
        "data.head()"
      ],
      "execution_count": 3,
      "outputs": [
        {
          "output_type": "execute_result",
          "data": {
            "text/html": [
              "<div>\n",
              "<style scoped>\n",
              "    .dataframe tbody tr th:only-of-type {\n",
              "        vertical-align: middle;\n",
              "    }\n",
              "\n",
              "    .dataframe tbody tr th {\n",
              "        vertical-align: top;\n",
              "    }\n",
              "\n",
              "    .dataframe thead th {\n",
              "        text-align: right;\n",
              "    }\n",
              "</style>\n",
              "<table border=\"1\" class=\"dataframe\">\n",
              "  <thead>\n",
              "    <tr style=\"text-align: right;\">\n",
              "      <th></th>\n",
              "      <th>reviewerID</th>\n",
              "      <th>asin</th>\n",
              "      <th>reviewerName</th>\n",
              "      <th>helpful</th>\n",
              "      <th>reviewText</th>\n",
              "      <th>overall</th>\n",
              "      <th>summary</th>\n",
              "      <th>unixReviewTime</th>\n",
              "      <th>reviewTime</th>\n",
              "    </tr>\n",
              "  </thead>\n",
              "  <tbody>\n",
              "    <tr>\n",
              "      <th>0</th>\n",
              "      <td>A2IBPI20UZIR0U</td>\n",
              "      <td>1384719342</td>\n",
              "      <td>cassandra tu \"Yeah, well, that's just like, u...</td>\n",
              "      <td>[0, 0]</td>\n",
              "      <td>Not much to write about here, but it does exac...</td>\n",
              "      <td>5.0</td>\n",
              "      <td>good</td>\n",
              "      <td>1393545600</td>\n",
              "      <td>02 28, 2014</td>\n",
              "    </tr>\n",
              "    <tr>\n",
              "      <th>1</th>\n",
              "      <td>A14VAT5EAX3D9S</td>\n",
              "      <td>1384719342</td>\n",
              "      <td>Jake</td>\n",
              "      <td>[13, 14]</td>\n",
              "      <td>The product does exactly as it should and is q...</td>\n",
              "      <td>5.0</td>\n",
              "      <td>Jake</td>\n",
              "      <td>1363392000</td>\n",
              "      <td>03 16, 2013</td>\n",
              "    </tr>\n",
              "    <tr>\n",
              "      <th>2</th>\n",
              "      <td>A195EZSQDW3E21</td>\n",
              "      <td>1384719342</td>\n",
              "      <td>Rick Bennette \"Rick Bennette\"</td>\n",
              "      <td>[1, 1]</td>\n",
              "      <td>The primary job of this device is to block the...</td>\n",
              "      <td>5.0</td>\n",
              "      <td>It Does The Job Well</td>\n",
              "      <td>1377648000</td>\n",
              "      <td>08 28, 2013</td>\n",
              "    </tr>\n",
              "    <tr>\n",
              "      <th>3</th>\n",
              "      <td>A2C00NNG1ZQQG2</td>\n",
              "      <td>1384719342</td>\n",
              "      <td>RustyBill \"Sunday Rocker\"</td>\n",
              "      <td>[0, 0]</td>\n",
              "      <td>Nice windscreen protects my MXL mic and preven...</td>\n",
              "      <td>5.0</td>\n",
              "      <td>GOOD WINDSCREEN FOR THE MONEY</td>\n",
              "      <td>1392336000</td>\n",
              "      <td>02 14, 2014</td>\n",
              "    </tr>\n",
              "    <tr>\n",
              "      <th>4</th>\n",
              "      <td>A94QU4C90B1AX</td>\n",
              "      <td>1384719342</td>\n",
              "      <td>SEAN MASLANKA</td>\n",
              "      <td>[0, 0]</td>\n",
              "      <td>This pop filter is great. It looks and perform...</td>\n",
              "      <td>5.0</td>\n",
              "      <td>No more pops when I record my vocals.</td>\n",
              "      <td>1392940800</td>\n",
              "      <td>02 21, 2014</td>\n",
              "    </tr>\n",
              "  </tbody>\n",
              "</table>\n",
              "</div>"
            ],
            "text/plain": [
              "       reviewerID        asin  ... unixReviewTime   reviewTime\n",
              "0  A2IBPI20UZIR0U  1384719342  ...     1393545600  02 28, 2014\n",
              "1  A14VAT5EAX3D9S  1384719342  ...     1363392000  03 16, 2013\n",
              "2  A195EZSQDW3E21  1384719342  ...     1377648000  08 28, 2013\n",
              "3  A2C00NNG1ZQQG2  1384719342  ...     1392336000  02 14, 2014\n",
              "4   A94QU4C90B1AX  1384719342  ...     1392940800  02 21, 2014\n",
              "\n",
              "[5 rows x 9 columns]"
            ]
          },
          "metadata": {
            "tags": []
          },
          "execution_count": 3
        }
      ]
    },
    {
      "cell_type": "code",
      "metadata": {
        "id": "hbK8SynbyQsA",
        "colab_type": "code",
        "colab": {
          "base_uri": "https://localhost:8080/",
          "height": 288
        },
        "outputId": "7d214dfd-80fd-4386-d7fe-013628bf3372"
      },
      "source": [
        "# Describe the data using describe method \n",
        "data.describe()"
      ],
      "execution_count": 42,
      "outputs": [
        {
          "output_type": "execute_result",
          "data": {
            "text/html": [
              "<div>\n",
              "<style scoped>\n",
              "    .dataframe tbody tr th:only-of-type {\n",
              "        vertical-align: middle;\n",
              "    }\n",
              "\n",
              "    .dataframe tbody tr th {\n",
              "        vertical-align: top;\n",
              "    }\n",
              "\n",
              "    .dataframe thead th {\n",
              "        text-align: right;\n",
              "    }\n",
              "</style>\n",
              "<table border=\"1\" class=\"dataframe\">\n",
              "  <thead>\n",
              "    <tr style=\"text-align: right;\">\n",
              "      <th></th>\n",
              "      <th>overall</th>\n",
              "    </tr>\n",
              "  </thead>\n",
              "  <tbody>\n",
              "    <tr>\n",
              "      <th>count</th>\n",
              "      <td>10261.000000</td>\n",
              "    </tr>\n",
              "    <tr>\n",
              "      <th>mean</th>\n",
              "      <td>1.858103</td>\n",
              "    </tr>\n",
              "    <tr>\n",
              "      <th>std</th>\n",
              "      <td>0.405060</td>\n",
              "    </tr>\n",
              "    <tr>\n",
              "      <th>min</th>\n",
              "      <td>0.000000</td>\n",
              "    </tr>\n",
              "    <tr>\n",
              "      <th>25%</th>\n",
              "      <td>2.000000</td>\n",
              "    </tr>\n",
              "    <tr>\n",
              "      <th>50%</th>\n",
              "      <td>2.000000</td>\n",
              "    </tr>\n",
              "    <tr>\n",
              "      <th>75%</th>\n",
              "      <td>2.000000</td>\n",
              "    </tr>\n",
              "    <tr>\n",
              "      <th>max</th>\n",
              "      <td>2.000000</td>\n",
              "    </tr>\n",
              "  </tbody>\n",
              "</table>\n",
              "</div>"
            ],
            "text/plain": [
              "            overall\n",
              "count  10261.000000\n",
              "mean       1.858103\n",
              "std        0.405060\n",
              "min        0.000000\n",
              "25%        2.000000\n",
              "50%        2.000000\n",
              "75%        2.000000\n",
              "max        2.000000"
            ]
          },
          "metadata": {
            "tags": []
          },
          "execution_count": 42
        }
      ]
    },
    {
      "cell_type": "code",
      "metadata": {
        "id": "idhOFvOgP_tj",
        "colab_type": "code",
        "colab": {}
      },
      "source": [
        "# Deleting columns which will not required\n",
        "del data['reviewerID']\n",
        "del data['asin']\n",
        "del data['reviewerName']\n",
        "del data['helpful']\n",
        "del data['unixReviewTime']\n",
        "del data['reviewTime']"
      ],
      "execution_count": 0,
      "outputs": []
    },
    {
      "cell_type": "code",
      "metadata": {
        "id": "oNx_cXLTQJNm",
        "colab_type": "code",
        "outputId": "9bd456b8-30b7-4b89-bb34-1af931e1b31e",
        "colab": {
          "base_uri": "https://localhost:8080/",
          "height": 198
        }
      },
      "source": [
        "#Checking if columns were deleted\n",
        "data.head()"
      ],
      "execution_count": 5,
      "outputs": [
        {
          "output_type": "execute_result",
          "data": {
            "text/html": [
              "<div>\n",
              "<style scoped>\n",
              "    .dataframe tbody tr th:only-of-type {\n",
              "        vertical-align: middle;\n",
              "    }\n",
              "\n",
              "    .dataframe tbody tr th {\n",
              "        vertical-align: top;\n",
              "    }\n",
              "\n",
              "    .dataframe thead th {\n",
              "        text-align: right;\n",
              "    }\n",
              "</style>\n",
              "<table border=\"1\" class=\"dataframe\">\n",
              "  <thead>\n",
              "    <tr style=\"text-align: right;\">\n",
              "      <th></th>\n",
              "      <th>reviewText</th>\n",
              "      <th>overall</th>\n",
              "      <th>summary</th>\n",
              "    </tr>\n",
              "  </thead>\n",
              "  <tbody>\n",
              "    <tr>\n",
              "      <th>0</th>\n",
              "      <td>Not much to write about here, but it does exac...</td>\n",
              "      <td>5.0</td>\n",
              "      <td>good</td>\n",
              "    </tr>\n",
              "    <tr>\n",
              "      <th>1</th>\n",
              "      <td>The product does exactly as it should and is q...</td>\n",
              "      <td>5.0</td>\n",
              "      <td>Jake</td>\n",
              "    </tr>\n",
              "    <tr>\n",
              "      <th>2</th>\n",
              "      <td>The primary job of this device is to block the...</td>\n",
              "      <td>5.0</td>\n",
              "      <td>It Does The Job Well</td>\n",
              "    </tr>\n",
              "    <tr>\n",
              "      <th>3</th>\n",
              "      <td>Nice windscreen protects my MXL mic and preven...</td>\n",
              "      <td>5.0</td>\n",
              "      <td>GOOD WINDSCREEN FOR THE MONEY</td>\n",
              "    </tr>\n",
              "    <tr>\n",
              "      <th>4</th>\n",
              "      <td>This pop filter is great. It looks and perform...</td>\n",
              "      <td>5.0</td>\n",
              "      <td>No more pops when I record my vocals.</td>\n",
              "    </tr>\n",
              "  </tbody>\n",
              "</table>\n",
              "</div>"
            ],
            "text/plain": [
              "                                          reviewText  ...                                summary\n",
              "0  Not much to write about here, but it does exac...  ...                                   good\n",
              "1  The product does exactly as it should and is q...  ...                                   Jake\n",
              "2  The primary job of this device is to block the...  ...                   It Does The Job Well\n",
              "3  Nice windscreen protects my MXL mic and preven...  ...          GOOD WINDSCREEN FOR THE MONEY\n",
              "4  This pop filter is great. It looks and perform...  ...  No more pops when I record my vocals.\n",
              "\n",
              "[5 rows x 3 columns]"
            ]
          },
          "metadata": {
            "tags": []
          },
          "execution_count": 5
        }
      ]
    },
    {
      "cell_type": "markdown",
      "metadata": {
        "id": "gR2WhcCvykKM",
        "colab_type": "text"
      },
      "source": [
        "## **Analyze Data**\n",
        "\n",
        "- Make histogram by the frequency of words"
      ]
    },
    {
      "cell_type": "code",
      "metadata": {
        "id": "Mw-suitGb7Eq",
        "colab_type": "code",
        "outputId": "58e2182d-54f5-4ff2-de89-75c2201786f7",
        "colab": {
          "base_uri": "https://localhost:8080/",
          "height": 281
        }
      },
      "source": [
        "# Display hitogram of data rating \"overall\"\n",
        "data.hist()\n",
        "plt.show()"
      ],
      "execution_count": 6,
      "outputs": [
        {
          "output_type": "display_data",
          "data": {
            "image/png": "[encoded data removed]",
            "text/plain": [
              "<Figure size 432x288 with 1 Axes>"
            ]
          },
          "metadata": {
            "tags": [],
            "needs_background": "light"
          }
        }
      ]
    },
    {
      "cell_type": "code",
      "metadata": {
        "id": "wg3_MZIXQVQu",
        "colab_type": "code",
        "colab": {}
      },
      "source": [
        "# Replacing ratings of 1 with 0 (not good) and 2,3 with 1 (neutral) and 4,5 with 2 (Good)\n",
        "def sentiment_rating(rating):\n",
        "    \n",
        "    if(int(rating) == 1 ):\n",
        "        return 0\n",
        "    if(int(rating) == 3 or int(rating) == 2):\n",
        "      return 1\n",
        "    else: \n",
        "        return 2\n",
        "data.overall = data.overall.apply(sentiment_rating) "
      ],
      "execution_count": 0,
      "outputs": []
    },
    {
      "cell_type": "code",
      "metadata": {
        "id": "0hHqQceaQakw",
        "colab_type": "code",
        "outputId": "58dee834-82bc-44fc-baf2-79ef5dcdad14",
        "colab": {
          "base_uri": "https://localhost:8080/",
          "height": 198
        }
      },
      "source": [
        "#Checking if values were updated\n",
        "data.head()"
      ],
      "execution_count": 8,
      "outputs": [
        {
          "output_type": "execute_result",
          "data": {
            "text/html": [
              "<div>\n",
              "<style scoped>\n",
              "    .dataframe tbody tr th:only-of-type {\n",
              "        vertical-align: middle;\n",
              "    }\n",
              "\n",
              "    .dataframe tbody tr th {\n",
              "        vertical-align: top;\n",
              "    }\n",
              "\n",
              "    .dataframe thead th {\n",
              "        text-align: right;\n",
              "    }\n",
              "</style>\n",
              "<table border=\"1\" class=\"dataframe\">\n",
              "  <thead>\n",
              "    <tr style=\"text-align: right;\">\n",
              "      <th></th>\n",
              "      <th>reviewText</th>\n",
              "      <th>overall</th>\n",
              "      <th>summary</th>\n",
              "    </tr>\n",
              "  </thead>\n",
              "  <tbody>\n",
              "    <tr>\n",
              "      <th>0</th>\n",
              "      <td>Not much to write about here, but it does exac...</td>\n",
              "      <td>2</td>\n",
              "      <td>good</td>\n",
              "    </tr>\n",
              "    <tr>\n",
              "      <th>1</th>\n",
              "      <td>The product does exactly as it should and is q...</td>\n",
              "      <td>2</td>\n",
              "      <td>Jake</td>\n",
              "    </tr>\n",
              "    <tr>\n",
              "      <th>2</th>\n",
              "      <td>The primary job of this device is to block the...</td>\n",
              "      <td>2</td>\n",
              "      <td>It Does The Job Well</td>\n",
              "    </tr>\n",
              "    <tr>\n",
              "      <th>3</th>\n",
              "      <td>Nice windscreen protects my MXL mic and preven...</td>\n",
              "      <td>2</td>\n",
              "      <td>GOOD WINDSCREEN FOR THE MONEY</td>\n",
              "    </tr>\n",
              "    <tr>\n",
              "      <th>4</th>\n",
              "      <td>This pop filter is great. It looks and perform...</td>\n",
              "      <td>2</td>\n",
              "      <td>No more pops when I record my vocals.</td>\n",
              "    </tr>\n",
              "  </tbody>\n",
              "</table>\n",
              "</div>"
            ],
            "text/plain": [
              "                                          reviewText  ...                                summary\n",
              "0  Not much to write about here, but it does exac...  ...                                   good\n",
              "1  The product does exactly as it should and is q...  ...                                   Jake\n",
              "2  The primary job of this device is to block the...  ...                   It Does The Job Well\n",
              "3  Nice windscreen protects my MXL mic and preven...  ...          GOOD WINDSCREEN FOR THE MONEY\n",
              "4  This pop filter is great. It looks and perform...  ...  No more pops when I record my vocals.\n",
              "\n",
              "[5 rows x 3 columns]"
            ]
          },
          "metadata": {
            "tags": []
          },
          "execution_count": 8
        }
      ]
    },
    {
      "cell_type": "code",
      "metadata": {
        "id": "wqno3cUbi7I1",
        "colab_type": "code",
        "colab": {
          "base_uri": "https://localhost:8080/",
          "height": 35
        },
        "outputId": "566c5878-3a88-43a3-b37b-d382c2869a71"
      },
      "source": [
        "#Show unique values of overall variable\n",
        "data[\"overall\"].unique()"
      ],
      "execution_count": 9,
      "outputs": [
        {
          "output_type": "execute_result",
          "data": {
            "text/plain": [
              "array([2, 1, 0])"
            ]
          },
          "metadata": {
            "tags": []
          },
          "execution_count": 9
        }
      ]
    },
    {
      "cell_type": "code",
      "metadata": {
        "id": "OO27EjkljBKA",
        "colab_type": "code",
        "colab": {
          "base_uri": "https://localhost:8080/",
          "height": 283
        },
        "outputId": "66f3b595-ed4d-4d46-9a17-e462b468b536"
      },
      "source": [
        "# Display histogram of overall variable\n",
        "data[\"overall\"].hist()"
      ],
      "execution_count": 10,
      "outputs": [
        {
          "output_type": "execute_result",
          "data": {
            "text/plain": [
              "<matplotlib.axes._subplots.AxesSubplot at 0x7f47e0d52eb8>"
            ]
          },
          "metadata": {
            "tags": []
          },
          "execution_count": 10
        },
        {
          "output_type": "display_data",
          "data": {
            "image/png": "[encoded data removed]",
            "text/plain": [
              "<Figure size 432x288 with 1 Axes>"
            ]
          },
          "metadata": {
            "tags": [],
            "needs_background": "light"
          }
        }
      ]
    },
    {
      "cell_type": "code",
      "metadata": {
        "id": "6FfvU7lkzkKS",
        "colab_type": "code",
        "colab": {}
      },
      "source": [
        "# Converting reviewText and summary to string type \n",
        "data['reviewText']=data['reviewText'].astype(str)\n",
        "data['summary']=data['summary'].astype(str)"
      ],
      "execution_count": 0,
      "outputs": []
    },
    {
      "cell_type": "code",
      "metadata": {
        "id": "FVVEtPBlzsz5",
        "colab_type": "code",
        "colab": {
          "base_uri": "https://localhost:8080/",
          "height": 817
        },
        "outputId": "cfdfab86-6883-45b3-8ab1-123ce8d7d493"
      },
      "source": [
        "#plot graph that will show the frequency of words occuring in reviewText\n",
        "\n",
        "vectorizer = CountVectorizer()\n",
        "# So, we get such structure:\n",
        "#        | word1  | word2  |  word3 | word4\n",
        "# text1  |   1    |    1   |   1    |   0\n",
        "# text2  |   0    |    1   |   1    |   0\n",
        "# text3  |   2    |    1   |   0    |   0\n",
        "# text4  |   0    |    0   |   0    |   1\n",
        "vect_texts = vectorizer.fit_transform(list(data['reviewText']))\n",
        "# ['word1', 'word2', 'word3', 'word4']\n",
        "all_ngrams = vectorizer.get_feature_names()\n",
        "num_ngrams = min(50, len(all_ngrams))\n",
        "all_counts = vect_texts.sum(axis=0).tolist()[0]\n",
        "\n",
        "all_ngrams, all_counts = zip(*[(n, c) for c, n in sorted(zip(all_counts, all_ngrams), reverse=True)])\n",
        "ngrams = all_ngrams[:num_ngrams]\n",
        "counts = all_counts[:num_ngrams]\n",
        "\n",
        "idx = np.arange(num_ngrams)\n",
        "\n",
        "# Let's now plot a frequency distribution plot of the most seen words in the corpus.\n",
        "plt.figure(figsize=(30, 30))\n",
        "plt.bar(idx, counts, width=0.8)\n",
        "plt.xlabel('N-grams')\n",
        "plt.ylabel('Frequencies')\n",
        "plt.title('Frequency distribution of ngrams')\n",
        "plt.xticks(idx, ngrams, rotation=45)\n",
        "plt.show()"
      ],
      "execution_count": 44,
      "outputs": [
        {
          "output_type": "display_data",
          "data": {
            "image/png": "[encoded data removed]",
            "text/plain": [
              "<Figure size 2160x2160 with 1 Axes>"
            ]
          },
          "metadata": {
            "tags": [],
            "needs_background": "light"
          }
        }
      ]
    },
    {
      "cell_type": "code",
      "metadata": {
        "id": "cTgAqEbSz0DB",
        "colab_type": "code",
        "colab": {
          "base_uri": "https://localhost:8080/",
          "height": 825
        },
        "outputId": "85e40b25-bee3-4887-c9cc-de0822c4cf32"
      },
      "source": [
        "#plot graph that will show the frequency of words occuring in summary\n",
        "\n",
        "vectorizer = CountVectorizer()\n",
        "# So, we get such structure:\n",
        "#        | word1  | word2  |  word3 | word4\n",
        "# text1  |   1    |    1   |   1    |   0\n",
        "# text2  |   0    |    1   |   1    |   0\n",
        "# text3  |   2    |    1   |   0    |   0\n",
        "# text4  |   0    |    0   |   0    |   1\n",
        "vect_texts = vectorizer.fit_transform(list(data['summary']))\n",
        "# ['word1', 'word2', 'word3', 'word4']\n",
        "all_ngrams = vectorizer.get_feature_names()\n",
        "num_ngrams = min(50, len(all_ngrams))\n",
        "all_counts = vect_texts.sum(axis=0).tolist()[0]\n",
        "\n",
        "all_ngrams, all_counts = zip(*[(n, c) for c, n in sorted(zip(all_counts, all_ngrams), reverse=True)])\n",
        "ngrams = all_ngrams[:num_ngrams]\n",
        "counts = all_counts[:num_ngrams]\n",
        "\n",
        "idx = np.arange(num_ngrams)\n",
        "\n",
        "# Let's now plot a frequency distribution plot of the most seen words in the corpus.\n",
        "plt.figure(figsize=(30, 30))\n",
        "plt.bar(idx, counts, width=0.8)\n",
        "plt.xlabel('N-grams')\n",
        "plt.ylabel('Frequencies')\n",
        "plt.title('Frequency distribution of ngrams')\n",
        "plt.xticks(idx, ngrams, rotation=45)\n",
        "plt.show()"
      ],
      "execution_count": 45,
      "outputs": [
        {
          "output_type": "display_data",
          "data": {
            "image/png": "[encoded data removed]",
            "text/plain": [
              "<Figure size 2160x2160 with 1 Axes>"
            ]
          },
          "metadata": {
            "tags": [],
            "needs_background": "light"
          }
        }
      ]
    },
    {
      "cell_type": "markdown",
      "metadata": {
        "id": "Ae_ww6XL0dYz",
        "colab_type": "text"
      },
      "source": [
        "## **Preprocessing Data**\n",
        "\n",
        "**Spliting data set as train and test**"
      ]
    },
    {
      "cell_type": "code",
      "metadata": {
        "id": "0X-Bj8vRQeP-",
        "colab_type": "code",
        "colab": {}
      },
      "source": [
        "# Accretion of data from reviewText and summary and storing in variable\n",
        "X = data['reviewText'] + ' ' + data['summary']\n",
        "y = data['overall']"
      ],
      "execution_count": 0,
      "outputs": []
    },
    {
      "cell_type": "code",
      "metadata": {
        "id": "zn9RdWi8RKIV",
        "colab_type": "code",
        "colab": {}
      },
      "source": [
        "# Converting variable into Numpy array with string\n",
        "X = X.astype(str)\n",
        "X=X.to_numpy()\n",
        "y=y.to_numpy()"
      ],
      "execution_count": 0,
      "outputs": []
    },
    {
      "cell_type": "code",
      "metadata": {
        "id": "ZEjjjGRmmzLc",
        "colab_type": "code",
        "colab": {}
      },
      "source": [
        "# Split data in train and test with 50 % test data\n",
        "training_sentences, testing_sentences, training_labels, testing_labels = train_test_split( X, y, test_size=0.5, random_state=42)"
      ],
      "execution_count": 0,
      "outputs": []
    },
    {
      "cell_type": "code",
      "metadata": {
        "id": "es0KKaP9RdCk",
        "colab_type": "code",
        "outputId": "cdbe7853-bfdc-464b-c616-4472461f98e2",
        "colab": {
          "base_uri": "https://localhost:8080/",
          "height": 54
        }
      },
      "source": [
        "# Display the shape of training sentence and testing sentences\n",
        "print(np.shape(testing_sentences))\n",
        "print(np.shape(training_sentences))"
      ],
      "execution_count": 49,
      "outputs": [
        {
          "output_type": "stream",
          "text": [
            "(5131,)\n",
            "(5130,)\n"
          ],
          "name": "stdout"
        }
      ]
    },
    {
      "cell_type": "markdown",
      "metadata": {
        "id": "TKHP_SdU1IY-",
        "colab_type": "text"
      },
      "source": [
        "**Defining variable**\n",
        "\n",
        "Vocab_size : Upper limit of diffrent words (  Note that the vocab_size is specified large enough so as to ensure unique integer encoding for each and every word.)\n",
        "\n",
        "max_length : What will be the maximum length of sentence\n",
        "\n",
        "trunc_type : If sentence exceed max_length then where to truncate a sentence from begining or at end using 'post and 'pre' methods\n"
      ]
    },
    {
      "cell_type": "code",
      "metadata": {
        "id": "XONcT0zORlK6",
        "colab_type": "code",
        "colab": {}
      },
      "source": [
        "# these variable value can be changed you should change and see the diffrence in the model.\n",
        "\n",
        "vocab_size=10000 \n",
        "embedding_dim=16\n",
        "max_length=120\n",
        "trunc_type='post' # It can be changed to pre and then see the diffrence in accuracy\n",
        "oov_tok='<OOV>'\n"
      ],
      "execution_count": 0,
      "outputs": []
    },
    {
      "cell_type": "markdown",
      "metadata": {
        "id": "d-EBPNfA1TMG",
        "colab_type": "text"
      },
      "source": [
        "**Tokenize sequence**\n",
        "\n",
        " Tokenization is the task of chopping it up into pieces, called tokens.\n",
        "\n",
        " Eg.\n",
        " Input - How are you\n",
        "\n",
        " Output - 'How', 'are', 'you' \n",
        "\n",
        " Here is a sample python code for better understanding\n",
        "\n",
        "\n",
        "\n",
        "```\n",
        " sentences = [\n",
        "    'I love my dog',\n",
        "    'I love my cat so much',\n",
        "    'You love my dog!'\n",
        "]\n",
        "\n",
        "Create object of Tokenizer and tokenize sentences\n",
        "\n",
        "tokenizer = Tokenizer(num_words = 100)  # max distinct words first 100 words\n",
        "tokenizer.fit_on_texts(sentences)\n",
        "```\n",
        "\n",
        "\n"
      ]
    },
    {
      "cell_type": "code",
      "metadata": {
        "id": "5v7zbpoAR2-x",
        "colab_type": "code",
        "colab": {}
      },
      "source": [
        "tokenizer=Tokenizer(num_words=vocab_size,oov_token=oov_tok)\n",
        "tokenizer.fit_on_texts(training_sentences)"
      ],
      "execution_count": 0,
      "outputs": []
    },
    {
      "cell_type": "markdown",
      "metadata": {
        "id": "YVzGNnAE1b7m",
        "colab_type": "text"
      },
      "source": [
        "**Text to sequence**\n",
        "\n",
        "\n",
        "texts_to_sequences Transforms each text in texts to a sequence of integers. So it basically takes each word in the text and replaces it with its corresponding integer value from the word_index dictionary. Nothing more, nothing less, certainly no magic involved.\n",
        "\n",
        "Here two function will require text_to_sequences and word_index"
      ]
    },
    {
      "cell_type": "code",
      "metadata": {
        "id": "6xZrBEjtR3-P",
        "colab_type": "code",
        "colab": {}
      },
      "source": [
        "\n",
        "word_index=tokenizer.word_index\n",
        "sequences=tokenizer.texts_to_sequences(training_sentences)"
      ],
      "execution_count": 0,
      "outputs": []
    },
    {
      "cell_type": "markdown",
      "metadata": {
        "id": "E80Ea5wf1kxl",
        "colab_type": "text"
      },
      "source": [
        "**Example of text to sequence**\n",
        "\n",
        "Here we have printed the first train sentence in text as well as with its corresponding integer that we have converted using text_to_sequence mothod in above cell."
      ]
    },
    {
      "cell_type": "code",
      "metadata": {
        "id": "Tb0pIVYSSg__",
        "colab_type": "code",
        "outputId": "5861250b-0e16-4f6f-ff8e-c4c3440846de",
        "colab": {
          "base_uri": "https://localhost:8080/",
          "height": 74
        }
      },
      "source": [
        "print(sequences[0])\n",
        "print(training_sentences[0])"
      ],
      "execution_count": 53,
      "outputs": [
        {
          "output_type": "stream",
          "text": [
            "[4, 80, 7, 6, 237, 165, 2, 39, 13, 12, 140, 143, 4, 1462, 2, 1749, 1426, 389, 328, 9, 17, 655, 60, 9, 12, 722, 97, 140]\n",
            "I used it to hold down the strings on my bass while I adjusted the truss rod. Worked perfectly for that purpose. Works for my four string bass\n"
          ],
          "name": "stdout"
        }
      ]
    },
    {
      "cell_type": "markdown",
      "metadata": {
        "id": "Ikp80CxH1paN",
        "colab_type": "text"
      },
      "source": [
        "**Padding sequence**\n",
        "\n",
        "The pad_sequences() function in the Keras deep learning library can be used to pad variable length sequences.\n",
        "\n",
        "The pad_sequences() function can also be used to pad sequences to a preferred length that may be longer than any observed sequences.\n",
        "\n",
        "This can be done by specifying the “maxlen” argument to the desired length. Padding will then be performed on all sequences to achieve the desired length, as follows.\n",
        "\n",
        "A sample python code is given below for better understanding.\n",
        "\n",
        "\n",
        "\n",
        "```\n",
        "padded_sequences = pad_sequences(sequences, padding='post',truncating='post',maxlen=5)\n",
        "\n",
        "```\n",
        "\n"
      ]
    },
    {
      "cell_type": "code",
      "metadata": {
        "id": "N5hrxaz0Si5u",
        "colab_type": "code",
        "colab": {}
      },
      "source": [
        "\n",
        "padded=pad_sequences(sequences,maxlen=max_length,truncating=trunc_type)\n",
        "testing_sequences=tokenizer.texts_to_sequences(testing_sentences)\n",
        "testing_padded=pad_sequences(testing_sequences,maxlen=max_length)"
      ],
      "execution_count": 0,
      "outputs": []
    },
    {
      "cell_type": "markdown",
      "metadata": {
        "id": "CzTkP1yh1vFt",
        "colab_type": "text"
      },
      "source": [
        "**Compairing padded sequence with normal sequence**\n",
        "\n",
        "In below cell we can see that in padded output  0 are added in starting so that the length will get uniformed as we have defined using max_length variable."
      ]
    },
    {
      "cell_type": "code",
      "metadata": {
        "id": "-Rim7mpKv4q5",
        "colab_type": "code",
        "colab": {
          "base_uri": "https://localhost:8080/",
          "height": 219
        },
        "outputId": "9cbfdd69-9da4-42f5-dc2e-a1e4c0aeb48e"
      },
      "source": [
        "print(sequences[500])\n",
        "print(padded[500])"
      ],
      "execution_count": 55,
      "outputs": [
        {
          "output_type": "stream",
          "text": [
            "[4, 80, 7, 6, 2263, 4, 115, 810, 21, 39, 5, 2263, 4, 115, 248, 5, 6887, 12, 136, 323, 2, 934, 8, 148, 58, 4013, 352, 10, 472, 58, 2510, 10, 2, 21, 1902, 391, 148, 148, 9334]\n",
            "[   0    0    0    0    0    0    0    0    0    0    0    0    0    0\n",
            "    0    0    0    0    0    0    0    0    0    0    0    0    0    0\n",
            "    0    0    0    0    0    0    0    0    0    0    0    0    0    0\n",
            "    0    0    0    0    0    0    0    0    0    0    0    0    0    0\n",
            "    0    0    0    0    0    0    0    0    0    0    0    0    0    0\n",
            "    0    0    0    0    0    0    0    0    0    0    0    4   80    7\n",
            "    6 2263    4  115  810   21   39    5 2263    4  115  248    5 6887\n",
            "   12  136  323    2  934    8  148   58 4013  352   10  472   58 2510\n",
            "   10    2   21 1902  391  148  148 9334]\n"
          ],
          "name": "stdout"
        }
      ]
    },
    {
      "cell_type": "markdown",
      "metadata": {
        "id": "3Yfd1qhJ1y7F",
        "colab_type": "text"
      },
      "source": [
        "**Integer value corresponding to words**\n",
        "\n",
        "In the below cell there is the list of diffrent words with their corresponding unique index value which we have created using text_to_sequences function in one of the above cell.\n",
        "\n",
        "It can be printed using word_index method"
      ]
    },
    {
      "cell_type": "code",
      "metadata": {
        "id": "FYZe5Decvzkl",
        "colab_type": "code",
        "colab": {
          "base_uri": "https://localhost:8080/",
          "height": 1000
        },
        "outputId": "dcc9e871-81b1-4788-d7cb-19a604febde2"
      },
      "source": [
        "tokenizer.word_index"
      ],
      "execution_count": 56,
      "outputs": [
        {
          "output_type": "execute_result",
          "data": {
            "text/plain": [
              "{'<OOV>': 1,\n",
              " 'the': 2,\n",
              " 'a': 3,\n",
              " 'i': 4,\n",
              " 'and': 5,\n",
              " 'to': 6,\n",
              " 'it': 7,\n",
              " 'is': 8,\n",
              " 'for': 9,\n",
              " 'of': 10,\n",
              " 'this': 11,\n",
              " 'my': 12,\n",
              " 'on': 13,\n",
              " 'with': 14,\n",
              " 'you': 15,\n",
              " 'in': 16,\n",
              " 'that': 17,\n",
              " 'but': 18,\n",
              " 'have': 19,\n",
              " 'not': 20,\n",
              " 'guitar': 21,\n",
              " 'great': 22,\n",
              " 'are': 23,\n",
              " 'as': 24,\n",
              " 'good': 25,\n",
              " 'so': 26,\n",
              " 'they': 27,\n",
              " 'these': 28,\n",
              " 'one': 29,\n",
              " 'if': 30,\n",
              " 'very': 31,\n",
              " 'or': 32,\n",
              " 'like': 33,\n",
              " 'be': 34,\n",
              " 'was': 35,\n",
              " 'use': 36,\n",
              " 'just': 37,\n",
              " 'sound': 38,\n",
              " 'strings': 39,\n",
              " \"it's\": 40,\n",
              " 'well': 41,\n",
              " 'can': 42,\n",
              " 'all': 43,\n",
              " 'more': 44,\n",
              " 'at': 45,\n",
              " 'your': 46,\n",
              " 'up': 47,\n",
              " 'an': 48,\n",
              " 'out': 49,\n",
              " 'will': 50,\n",
              " 'price': 51,\n",
              " 'pedal': 52,\n",
              " 'get': 53,\n",
              " 'when': 54,\n",
              " 'them': 55,\n",
              " 'from': 56,\n",
              " 'than': 57,\n",
              " 'no': 58,\n",
              " 'me': 59,\n",
              " 'works': 60,\n",
              " 'has': 61,\n",
              " 'would': 62,\n",
              " 'really': 63,\n",
              " 'amp': 64,\n",
              " 'nice': 65,\n",
              " 'what': 66,\n",
              " 'little': 67,\n",
              " 'quality': 68,\n",
              " 'some': 69,\n",
              " 'other': 70,\n",
              " 'about': 71,\n",
              " 'do': 72,\n",
              " 'much': 73,\n",
              " \"don't\": 74,\n",
              " 'had': 75,\n",
              " \"i've\": 76,\n",
              " 'only': 77,\n",
              " 'there': 78,\n",
              " 'also': 79,\n",
              " 'used': 80,\n",
              " 'which': 81,\n",
              " 'better': 82,\n",
              " 'does': 83,\n",
              " 'any': 84,\n",
              " 'stand': 85,\n",
              " 'time': 86,\n",
              " 'easy': 87,\n",
              " \"i'm\": 88,\n",
              " 'tone': 89,\n",
              " 'strap': 90,\n",
              " 'picks': 91,\n",
              " 'too': 92,\n",
              " 'product': 93,\n",
              " 'using': 94,\n",
              " 'need': 95,\n",
              " 'bought': 96,\n",
              " 'string': 97,\n",
              " 'work': 98,\n",
              " 'mic': 99,\n",
              " 'because': 100,\n",
              " 'tuner': 101,\n",
              " 'buy': 102,\n",
              " 'its': 103,\n",
              " 'best': 104,\n",
              " 'even': 105,\n",
              " 'by': 106,\n",
              " 'play': 107,\n",
              " 'playing': 108,\n",
              " 'now': 109,\n",
              " 'guitars': 110,\n",
              " 'off': 111,\n",
              " 'cable': 112,\n",
              " 'been': 113,\n",
              " 'made': 114,\n",
              " 'am': 115,\n",
              " 'over': 116,\n",
              " 'love': 117,\n",
              " 'acoustic': 118,\n",
              " 'into': 119,\n",
              " 'pick': 120,\n",
              " 'way': 121,\n",
              " 'set': 122,\n",
              " 'want': 123,\n",
              " 'go': 124,\n",
              " 'still': 125,\n",
              " 'sounds': 126,\n",
              " 'pedals': 127,\n",
              " '34': 128,\n",
              " 'make': 129,\n",
              " 'right': 130,\n",
              " 'got': 131,\n",
              " 'after': 132,\n",
              " '2': 133,\n",
              " 'back': 134,\n",
              " 'thing': 135,\n",
              " 'fender': 136,\n",
              " 'small': 137,\n",
              " 'two': 138,\n",
              " 'years': 139,\n",
              " 'bass': 140,\n",
              " 'bit': 141,\n",
              " 'then': 142,\n",
              " 'while': 143,\n",
              " 'how': 144,\n",
              " 'first': 145,\n",
              " 'enough': 146,\n",
              " 'case': 147,\n",
              " 'perfect': 148,\n",
              " '1': 149,\n",
              " 'without': 150,\n",
              " 'long': 151,\n",
              " 'think': 152,\n",
              " 'around': 153,\n",
              " 'lot': 154,\n",
              " 'recommend': 155,\n",
              " 'could': 156,\n",
              " 'cheap': 157,\n",
              " 'say': 158,\n",
              " 'new': 159,\n",
              " 'another': 160,\n",
              " 'put': 161,\n",
              " 'most': 162,\n",
              " 'pretty': 163,\n",
              " 'few': 164,\n",
              " 'down': 165,\n",
              " 'last': 166,\n",
              " \"can't\": 167,\n",
              " 'feel': 168,\n",
              " \"doesn't\": 169,\n",
              " 'fine': 170,\n",
              " 'were': 171,\n",
              " '3': 172,\n",
              " 'power': 173,\n",
              " '4': 174,\n",
              " 'same': 175,\n",
              " 'cables': 176,\n",
              " 'instrument': 177,\n",
              " 'different': 178,\n",
              " '5': 179,\n",
              " 'many': 180,\n",
              " 'tune': 181,\n",
              " 'should': 182,\n",
              " 'high': 183,\n",
              " 'makes': 184,\n",
              " 'know': 185,\n",
              " 'end': 186,\n",
              " 'find': 187,\n",
              " 'job': 188,\n",
              " 'electric': 189,\n",
              " 'solid': 190,\n",
              " 'far': 191,\n",
              " 'clean': 192,\n",
              " 'fit': 193,\n",
              " 'did': 194,\n",
              " 'hard': 195,\n",
              " 'looking': 196,\n",
              " 'metal': 197,\n",
              " 'light': 198,\n",
              " \"didn't\": 199,\n",
              " 'sure': 200,\n",
              " 'though': 201,\n",
              " 'money': 202,\n",
              " 'never': 203,\n",
              " 'try': 204,\n",
              " 'keep': 205,\n",
              " 'see': 206,\n",
              " 'both': 207,\n",
              " 'tried': 208,\n",
              " \"you're\": 209,\n",
              " 'through': 210,\n",
              " 'volume': 211,\n",
              " 'low': 212,\n",
              " 'something': 213,\n",
              " 'excellent': 214,\n",
              " 'capo': 215,\n",
              " 'always': 216,\n",
              " 'their': 217,\n",
              " 'music': 218,\n",
              " 'seems': 219,\n",
              " 'since': 220,\n",
              " 'recording': 221,\n",
              " 'microphone': 222,\n",
              " 'may': 223,\n",
              " 'own': 224,\n",
              " 'size': 225,\n",
              " 'problem': 226,\n",
              " 'found': 227,\n",
              " 'tuners': 228,\n",
              " 'needed': 229,\n",
              " 'worth': 230,\n",
              " 'look': 231,\n",
              " 'going': 232,\n",
              " 'every': 233,\n",
              " 'where': 234,\n",
              " 'heavy': 235,\n",
              " 'board': 236,\n",
              " 'hold': 237,\n",
              " 'less': 238,\n",
              " 'take': 239,\n",
              " 'again': 240,\n",
              " 'neck': 241,\n",
              " 'effects': 242,\n",
              " 'give': 243,\n",
              " 'those': 244,\n",
              " 'noise': 245,\n",
              " \"that's\": 246,\n",
              " 'actually': 247,\n",
              " 'tuning': 248,\n",
              " 'who': 249,\n",
              " 'big': 250,\n",
              " 'tube': 251,\n",
              " 'plastic': 252,\n",
              " 'easily': 253,\n",
              " 'however': 254,\n",
              " 'bag': 255,\n",
              " 'looks': 256,\n",
              " \"i'd\": 257,\n",
              " 'built': 258,\n",
              " 'simple': 259,\n",
              " 'come': 260,\n",
              " 'being': 261,\n",
              " 'ever': 262,\n",
              " 'before': 263,\n",
              " 'old': 264,\n",
              " 'probably': 265,\n",
              " 'almost': 266,\n",
              " 'quite': 267,\n",
              " 'sturdy': 268,\n",
              " 'unit': 269,\n",
              " 'bad': 270,\n",
              " '6': 271,\n",
              " 'box': 272,\n",
              " 'home': 273,\n",
              " 'distortion': 274,\n",
              " 'switch': 275,\n",
              " 'came': 276,\n",
              " 'happy': 277,\n",
              " 'expensive': 278,\n",
              " 'highly': 279,\n",
              " 'having': 280,\n",
              " 'amazon': 281,\n",
              " 'gain': 282,\n",
              " 'awesome': 283,\n",
              " 'top': 284,\n",
              " 'comes': 285,\n",
              " 'here': 286,\n",
              " 'line': 287,\n",
              " 'practice': 288,\n",
              " 'reviews': 289,\n",
              " 'amps': 290,\n",
              " 'standard': 291,\n",
              " 'getting': 292,\n",
              " 'studio': 293,\n",
              " 'we': 294,\n",
              " 'value': 295,\n",
              " 'each': 296,\n",
              " 'behringer': 297,\n",
              " 'once': 298,\n",
              " 'stars': 299,\n",
              " 'purchased': 300,\n",
              " 'might': 301,\n",
              " 'between': 302,\n",
              " 'three': 303,\n",
              " 'several': 304,\n",
              " 'yet': 305,\n",
              " 'bright': 306,\n",
              " 'review': 307,\n",
              " 'change': 308,\n",
              " 'thought': 309,\n",
              " 'cost': 310,\n",
              " 'problems': 311,\n",
              " 'said': 312,\n",
              " '10': 313,\n",
              " 'wanted': 314,\n",
              " 'things': 315,\n",
              " 'deal': 316,\n",
              " 'people': 317,\n",
              " 'boss': 318,\n",
              " 'anything': 319,\n",
              " 'definitely': 320,\n",
              " 'ones': 321,\n",
              " 'battery': 322,\n",
              " 'strat': 323,\n",
              " 'purchase': 324,\n",
              " 'side': 325,\n",
              " 'plug': 326,\n",
              " 'snark': 327,\n",
              " 'perfectly': 328,\n",
              " 'audio': 329,\n",
              " \"won't\": 330,\n",
              " 'fits': 331,\n",
              " 'place': 332,\n",
              " 'rock': 333,\n",
              " 'couple': 334,\n",
              " 'extra': 335,\n",
              " \"i'll\": 336,\n",
              " 'why': 337,\n",
              " 'amazing': 338,\n",
              " 'overdrive': 339,\n",
              " 'seem': 340,\n",
              " 'read': 341,\n",
              " 'design': 342,\n",
              " 'turn': 343,\n",
              " \"isn't\": 344,\n",
              " 'ordered': 345,\n",
              " 'super': 346,\n",
              " \"they're\": 347,\n",
              " 'wrong': 348,\n",
              " 'color': 349,\n",
              " 'stuff': 350,\n",
              " 'effect': 351,\n",
              " 'away': 352,\n",
              " '8': 353,\n",
              " 'nothing': 354,\n",
              " 'cool': 355,\n",
              " 'item': 356,\n",
              " 'real': 357,\n",
              " 'others': 358,\n",
              " 'either': 359,\n",
              " '12': 360,\n",
              " 'gig': 361,\n",
              " 'full': 362,\n",
              " 'able': 363,\n",
              " 'especially': 364,\n",
              " 'longer': 365,\n",
              " 'ukulele': 366,\n",
              " 'instruments': 367,\n",
              " 'stands': 368,\n",
              " 'brand': 369,\n",
              " 'overall': 370,\n",
              " 'everything': 371,\n",
              " 'stage': 372,\n",
              " 'decent': 373,\n",
              " 'waves': 374,\n",
              " 'difference': 375,\n",
              " 'accurate': 376,\n",
              " 'live': 377,\n",
              " 'planet': 378,\n",
              " 'fast': 379,\n",
              " 'adapter': 380,\n",
              " 'durable': 381,\n",
              " 'range': 382,\n",
              " 'issue': 383,\n",
              " 'mine': 384,\n",
              " 'clear': 385,\n",
              " 'signal': 386,\n",
              " 'expected': 387,\n",
              " 'easier': 388,\n",
              " 'worked': 389,\n",
              " 'ok': 390,\n",
              " 'finish': 391,\n",
              " 'speaker': 392,\n",
              " 'room': 393,\n",
              " 'dunlop': 394,\n",
              " 'sounding': 395,\n",
              " 'delay': 396,\n",
              " 'inexpensive': 397,\n",
              " 'type': 398,\n",
              " 'recommended': 399,\n",
              " 'such': 400,\n",
              " 'times': 401,\n",
              " 'head': 402,\n",
              " 'loud': 403,\n",
              " 'gets': 404,\n",
              " 'else': 405,\n",
              " \"d'addario\": 406,\n",
              " \"you'll\": 407,\n",
              " 'kind': 408,\n",
              " 'clip': 409,\n",
              " 'comfortable': 410,\n",
              " 'black': 411,\n",
              " 'jack': 412,\n",
              " 'bottom': 413,\n",
              " 'done': 414,\n",
              " 'level': 415,\n",
              " 'control': 416,\n",
              " \"haven't\": 417,\n",
              " 'run': 418,\n",
              " 'short': 419,\n",
              " 'expect': 420,\n",
              " 'point': 421,\n",
              " 'prefer': 422,\n",
              " 'slightly': 423,\n",
              " 'fact': 424,\n",
              " 'etc': 425,\n",
              " 'mics': 426,\n",
              " 'must': 427,\n",
              " '100': 428,\n",
              " 'part': 429,\n",
              " 'day': 430,\n",
              " 'instead': 431,\n",
              " 'style': 432,\n",
              " 'add': 433,\n",
              " 'hand': 434,\n",
              " \"there's\": 435,\n",
              " '20': 436,\n",
              " 'he': 437,\n",
              " 'weight': 438,\n",
              " 'device': 439,\n",
              " 'button': 440,\n",
              " 'maybe': 441,\n",
              " 'buying': 442,\n",
              " 'anyone': 443,\n",
              " 'products': 444,\n",
              " 'large': 445,\n",
              " 'player': 446,\n",
              " 'e': 447,\n",
              " 'grip': 448,\n",
              " 'decided': 449,\n",
              " 'under': 450,\n",
              " 'year': 451,\n",
              " 'build': 452,\n",
              " 'needs': 453,\n",
              " 'holds': 454,\n",
              " 'band': 455,\n",
              " 'reverb': 456,\n",
              " 'favorite': 457,\n",
              " 'cloth': 458,\n",
              " 'least': 459,\n",
              " 'record': 460,\n",
              " 'exactly': 461,\n",
              " 'simply': 462,\n",
              " 'close': 463,\n",
              " 'beat': 464,\n",
              " 'tool': 465,\n",
              " 'output': 466,\n",
              " 'input': 467,\n",
              " 'note': 468,\n",
              " 'break': 469,\n",
              " 'second': 470,\n",
              " 'fingers': 471,\n",
              " 'screws': 472,\n",
              " 'channel': 473,\n",
              " 'feels': 474,\n",
              " 'quick': 475,\n",
              " 'knobs': 476,\n",
              " 'knob': 477,\n",
              " 'months': 478,\n",
              " 'tight': 479,\n",
              " 'les': 480,\n",
              " 'order': 481,\n",
              " 'plus': 482,\n",
              " 'classic': 483,\n",
              " 'tones': 484,\n",
              " 'reason': 485,\n",
              " 'issues': 486,\n",
              " 'although': 487,\n",
              " 'tell': 488,\n",
              " 'went': 489,\n",
              " 'blues': 490,\n",
              " 'inside': 491,\n",
              " 'replace': 492,\n",
              " 'single': 493,\n",
              " 'itself': 494,\n",
              " 'next': 495,\n",
              " 'jazz': 496,\n",
              " 'quickly': 497,\n",
              " 'played': 498,\n",
              " 'ball': 499,\n",
              " 'trying': 500,\n",
              " 'pro': 501,\n",
              " 'life': 502,\n",
              " 'usb': 503,\n",
              " 'working': 504,\n",
              " 'already': 505,\n",
              " 'days': 506,\n",
              " 'sometimes': 507,\n",
              " 'paul': 508,\n",
              " 'mixer': 509,\n",
              " 'soft': 510,\n",
              " 'goes': 511,\n",
              " 'wish': 512,\n",
              " 'boost': 513,\n",
              " 'supply': 514,\n",
              " 'body': 515,\n",
              " 'bucks': 516,\n",
              " 'smaller': 517,\n",
              " 'hole': 518,\n",
              " 'original': 519,\n",
              " 'fret': 520,\n",
              " 'settings': 521,\n",
              " 'hear': 522,\n",
              " 'xlr': 523,\n",
              " 'cord': 524,\n",
              " 'strong': 525,\n",
              " 'until': 526,\n",
              " \"wouldn't\": 527,\n",
              " 'cut': 528,\n",
              " 'making': 529,\n",
              " 'rubber': 530,\n",
              " 'let': 531,\n",
              " 'piece': 532,\n",
              " '7': 533,\n",
              " 'compared': 534,\n",
              " 'install': 535,\n",
              " 'took': 536,\n",
              " 'rather': 537,\n",
              " 'fantastic': 538,\n",
              " 'tension': 539,\n",
              " '30': 540,\n",
              " 'leave': 541,\n",
              " 'construction': 542,\n",
              " 'his': 543,\n",
              " 'higher': 544,\n",
              " 'nicely': 545,\n",
              " 'our': 546,\n",
              " 'takes': 547,\n",
              " 'gives': 548,\n",
              " 'yes': 549,\n",
              " '40': 550,\n",
              " 'pay': 551,\n",
              " 'locks': 552,\n",
              " 'plugged': 553,\n",
              " 'stay': 554,\n",
              " 'front': 555,\n",
              " 'pickup': 556,\n",
              " 'interface': 557,\n",
              " 'useful': 558,\n",
              " 'batteries': 559,\n",
              " 'setting': 560,\n",
              " 'store': 561,\n",
              " 'mount': 562,\n",
              " 'model': 563,\n",
              " 'regular': 564,\n",
              " 'guess': 565,\n",
              " 'software': 566,\n",
              " 'uke': 567,\n",
              " 'started': 568,\n",
              " 'spend': 569,\n",
              " 'handy': 570,\n",
              " 'lower': 571,\n",
              " 'leather': 572,\n",
              " 'update': 573,\n",
              " 'display': 574,\n",
              " 'half': 575,\n",
              " 'open': 576,\n",
              " 'headstock': 577,\n",
              " 'eq': 578,\n",
              " 'fun': 579,\n",
              " 'flat': 580,\n",
              " 'computer': 581,\n",
              " 'pleased': 582,\n",
              " 'doing': 583,\n",
              " 'cheaper': 584,\n",
              " \"wasn't\": 585,\n",
              " 'help': 586,\n",
              " 'smooth': 587,\n",
              " 'mini': 588,\n",
              " 'straps': 589,\n",
              " 'owned': 590,\n",
              " 'gear': 591,\n",
              " 'space': 592,\n",
              " 'fairly': 593,\n",
              " 'wall': 594,\n",
              " 'version': 595,\n",
              " 'adjustable': 596,\n",
              " 'foot': 597,\n",
              " 'drop': 598,\n",
              " 'included': 599,\n",
              " 'pack': 600,\n",
              " 'pop': 601,\n",
              " 'together': 602,\n",
              " 'believe': 603,\n",
              " 'says': 604,\n",
              " \"couldn't\": 605,\n",
              " 'plenty': 606,\n",
              " 'arrived': 607,\n",
              " 'sustain': 608,\n",
              " 'ends': 609,\n",
              " 'gibson': 610,\n",
              " 'glad': 611,\n",
              " 'digital': 612,\n",
              " 'setup': 613,\n",
              " 'headphones': 614,\n",
              " 'free': 615,\n",
              " 'often': 616,\n",
              " 'unless': 617,\n",
              " 'adjust': 618,\n",
              " 'amount': 619,\n",
              " 'true': 620,\n",
              " 'larger': 621,\n",
              " 'spot': 622,\n",
              " 'designed': 623,\n",
              " 'thick': 624,\n",
              " 'features': 625,\n",
              " 'star': 626,\n",
              " 'ago': 627,\n",
              " 'five': 628,\n",
              " 'system': 629,\n",
              " 'save': 630,\n",
              " 'impressed': 631,\n",
              " 'bridge': 632,\n",
              " 'length': 633,\n",
              " 'sounded': 634,\n",
              " 'installed': 635,\n",
              " 'supposed': 636,\n",
              " 'similar': 637,\n",
              " 'screw': 638,\n",
              " 'action': 639,\n",
              " 'myself': 640,\n",
              " '50': 641,\n",
              " 'thin': 642,\n",
              " 'along': 643,\n",
              " 'affordable': 644,\n",
              " 'mandolin': 645,\n",
              " 'finger': 646,\n",
              " 'wear': 647,\n",
              " 'usually': 648,\n",
              " 'start': 649,\n",
              " 'nylon': 650,\n",
              " 'hours': 651,\n",
              " 'notes': 652,\n",
              " 'mxr': 653,\n",
              " 'filter': 654,\n",
              " 'purpose': 655,\n",
              " 'vintage': 656,\n",
              " 'received': 657,\n",
              " 'medium': 658,\n",
              " 'anyway': 659,\n",
              " 'drum': 660,\n",
              " 'idea': 661,\n",
              " 'floor': 662,\n",
              " 'equipment': 663,\n",
              " 'available': 664,\n",
              " 'wow': 665,\n",
              " 'portable': 666,\n",
              " 'ernie': 667,\n",
              " 'joyo': 668,\n",
              " 'budget': 669,\n",
              " 'holder': 670,\n",
              " 'd': 671,\n",
              " 'difficult': 672,\n",
              " 'controls': 673,\n",
              " 'extremely': 674,\n",
              " 'move': 675,\n",
              " 'sweet': 676,\n",
              " 'beginner': 677,\n",
              " 'position': 678,\n",
              " 'choice': 679,\n",
              " 'hands': 680,\n",
              " 'surprised': 681,\n",
              " 'steel': 682,\n",
              " 'players': 683,\n",
              " 'b': 684,\n",
              " 'care': 685,\n",
              " 'keyboard': 686,\n",
              " 'slide': 687,\n",
              " 'feature': 688,\n",
              " 'shipping': 689,\n",
              " 'matter': 690,\n",
              " 'someone': 691,\n",
              " 'chorus': 692,\n",
              " 'course': 693,\n",
              " 'uses': 694,\n",
              " 'completely': 695,\n",
              " 'base': 696,\n",
              " 'performance': 697,\n",
              " 'material': 698,\n",
              " 'minutes': 699,\n",
              " 'cannot': 700,\n",
              " 'lock': 701,\n",
              " 'past': 702,\n",
              " 'elixir': 703,\n",
              " 'fuzz': 704,\n",
              " 'capos': 705,\n",
              " 'name': 706,\n",
              " 'wood': 707,\n",
              " 'seen': 708,\n",
              " 'quiet': 709,\n",
              " 'musician': 710,\n",
              " 'disappointed': 711,\n",
              " 'martin': 712,\n",
              " 'professional': 713,\n",
              " 'friend': 714,\n",
              " 'spring': 715,\n",
              " 'stock': 716,\n",
              " 'picking': 717,\n",
              " 'basic': 718,\n",
              " 'wah': 719,\n",
              " 'nut': 720,\n",
              " 'inch': 721,\n",
              " 'four': 722,\n",
              " 'during': 723,\n",
              " 'epiphone': 724,\n",
              " 'models': 725,\n",
              " 'angle': 726,\n",
              " 'holes': 727,\n",
              " 'voice': 728,\n",
              " 'microphones': 729,\n",
              " 'vocals': 730,\n",
              " 'normal': 731,\n",
              " '9': 732,\n",
              " 'adjustment': 733,\n",
              " 'pin': 734,\n",
              " 'heard': 735,\n",
              " 'check': 736,\n",
              " 'blue': 737,\n",
              " 'means': 738,\n",
              " 'thanks': 739,\n",
              " 'stable': 740,\n",
              " 'huge': 741,\n",
              " 'gauge': 742,\n",
              " 'screen': 743,\n",
              " 'wonderful': 744,\n",
              " '15': 745,\n",
              " 'experience': 746,\n",
              " 'loop': 747,\n",
              " 'stick': 748,\n",
              " 'preamp': 749,\n",
              " 'padding': 750,\n",
              " 'red': 751,\n",
              " 'mix': 752,\n",
              " 'package': 753,\n",
              " 'sn': 754,\n",
              " 'gigs': 755,\n",
              " 'noticed': 756,\n",
              " 'clamp': 757,\n",
              " 'touch': 758,\n",
              " 'replaced': 759,\n",
              " 'guy': 760,\n",
              " 'custom': 761,\n",
              " 'mind': 762,\n",
              " 'recently': 763,\n",
              " 'shure': 764,\n",
              " 'running': 765,\n",
              " 'due': 766,\n",
              " 'headphone': 767,\n",
              " 'allows': 768,\n",
              " 'cover': 769,\n",
              " 'stereo': 770,\n",
              " 'soon': 771,\n",
              " 'upgrade': 772,\n",
              " 'remove': 773,\n",
              " 'liked': 774,\n",
              " 'finally': 775,\n",
              " 'warm': 776,\n",
              " 'violin': 777,\n",
              " 'replacement': 778,\n",
              " 'absolutely': 779,\n",
              " 'except': 780,\n",
              " 'reading': 781,\n",
              " 'boom': 782,\n",
              " 'tiny': 783,\n",
              " 'carry': 784,\n",
              " 'lead': 785,\n",
              " 'non': 786,\n",
              " 'straight': 787,\n",
              " 'stays': 788,\n",
              " 'left': 789,\n",
              " 'pitch': 790,\n",
              " 'gave': 791,\n",
              " 'rest': 792,\n",
              " 'opinion': 793,\n",
              " 'classical': 794,\n",
              " 'seemed': 795,\n",
              " 'wide': 796,\n",
              " 'metronome': 797,\n",
              " 'track': 798,\n",
              " 'function': 799,\n",
              " 'analog': 800,\n",
              " 'us': 801,\n",
              " 'vocal': 802,\n",
              " 'units': 803,\n",
              " 'whole': 804,\n",
              " '9v': 805,\n",
              " 'heavier': 806,\n",
              " 'dial': 807,\n",
              " 'songs': 808,\n",
              " 'kit': 809,\n",
              " 'changing': 810,\n",
              " 'pins': 811,\n",
              " 'lots': 812,\n",
              " \"aren't\": 813,\n",
              " 'above': 814,\n",
              " 'guitarist': 815,\n",
              " 'helps': 816,\n",
              " 'certainly': 817,\n",
              " 'natural': 818,\n",
              " 'variety': 819,\n",
              " 'chain': 820,\n",
              " 'arm': 821,\n",
              " 'compact': 822,\n",
              " 'weeks': 823,\n",
              " 'locking': 824,\n",
              " 'mean': 825,\n",
              " 'local': 826,\n",
              " 'flexible': 827,\n",
              " 'okay': 828,\n",
              " 'fall': 829,\n",
              " 'g': 830,\n",
              " 'based': 831,\n",
              " 'handle': 832,\n",
              " 'consider': 833,\n",
              " 'versatile': 834,\n",
              " 'rack': 835,\n",
              " 'drive': 836,\n",
              " 'broke': 837,\n",
              " 'holding': 838,\n",
              " 'turned': 839,\n",
              " 'allow': 840,\n",
              " 'parts': 841,\n",
              " 'vox': 842,\n",
              " 'son': 843,\n",
              " 'important': 844,\n",
              " 'balanced': 845,\n",
              " 'winder': 846,\n",
              " 'house': 847,\n",
              " 'cleaner': 848,\n",
              " 'pickups': 849,\n",
              " 'notice': 850,\n",
              " 'monster': 851,\n",
              " 'brands': 852,\n",
              " 'putting': 853,\n",
              " 'looked': 854,\n",
              " 'loose': 855,\n",
              " 'speakers': 856,\n",
              " 'lighter': 857,\n",
              " 'whatever': 858,\n",
              " 'onto': 859,\n",
              " 'cases': 860,\n",
              " 'mike': 861,\n",
              " 'korg': 862,\n",
              " '00': 863,\n",
              " 'sets': 864,\n",
              " 'stiff': 865,\n",
              " 'addition': 866,\n",
              " 'felt': 867,\n",
              " 'feet': 868,\n",
              " 'advertised': 869,\n",
              " 'added': 870,\n",
              " 'jam': 871,\n",
              " 'priced': 872,\n",
              " 'buttons': 873,\n",
              " 'reliable': 874,\n",
              " 'support': 875,\n",
              " 'likely': 876,\n",
              " 'compressor': 877,\n",
              " 'padded': 878,\n",
              " 'various': 879,\n",
              " 'hit': 880,\n",
              " 'worry': 881,\n",
              " 'results': 882,\n",
              " 'perhaps': 883,\n",
              " 'main': 884,\n",
              " 'pocket': 885,\n",
              " 'gold': 886,\n",
              " 'complaint': 887,\n",
              " 'patch': 888,\n",
              " 'everyone': 889,\n",
              " 'micro': 890,\n",
              " 'dont': 891,\n",
              " 'strumming': 892,\n",
              " 'mostly': 893,\n",
              " 'given': 894,\n",
              " 'banjo': 895,\n",
              " 'complaints': 896,\n",
              " 'pull': 897,\n",
              " 'ac': 898,\n",
              " 'coated': 899,\n",
              " 'week': 900,\n",
              " 'amplifier': 901,\n",
              " 'secure': 902,\n",
              " 'connect': 903,\n",
              " 're': 904,\n",
              " 'yourself': 905,\n",
              " 'bend': 906,\n",
              " 'considering': 907,\n",
              " 'cant': 908,\n",
              " 'dry': 909,\n",
              " 'condenser': 910,\n",
              " 'marshall': 911,\n",
              " 'hardware': 912,\n",
              " 'fretboard': 913,\n",
              " 'totally': 914,\n",
              " 'noisy': 915,\n",
              " 'paid': 916,\n",
              " 'otherwise': 917,\n",
              " 'wire': 918,\n",
              " 'multi': 919,\n",
              " 'damage': 920,\n",
              " 'height': 921,\n",
              " 'careful': 922,\n",
              " 'unlike': 923,\n",
              " 'thinking': 924,\n",
              " 'durability': 925,\n",
              " 'tubes': 926,\n",
              " 'state': 927,\n",
              " 'provide': 928,\n",
              " 'yamaha': 929,\n",
              " 'apart': 930,\n",
              " 'lost': 931,\n",
              " 'properly': 932,\n",
              " 'against': 933,\n",
              " 'surface': 934,\n",
              " 'hum': 935,\n",
              " 'basically': 936,\n",
              " 'test': 937,\n",
              " 'tuned': 938,\n",
              " 'step': 939,\n",
              " 'travel': 940,\n",
              " 'solution': 941,\n",
              " 'ear': 942,\n",
              " 'plays': 943,\n",
              " 'frets': 944,\n",
              " 'tip': 945,\n",
              " 'learning': 946,\n",
              " 'sized': 947,\n",
              " 'whether': 948,\n",
              " 'option': 949,\n",
              " 'led': 950,\n",
              " 'polish': 951,\n",
              " 'pros': 952,\n",
              " 'twice': 953,\n",
              " 'chords': 954,\n",
              " 'satisfied': 955,\n",
              " 'older': 956,\n",
              " 'duty': 957,\n",
              " 'cords': 958,\n",
              " 'rig': 959,\n",
              " 'ease': 960,\n",
              " 'colors': 961,\n",
              " 'user': 962,\n",
              " 'options': 963,\n",
              " 'within': 964,\n",
              " 'show': 965,\n",
              " 'market': 966,\n",
              " 'slight': 967,\n",
              " 'bigger': 968,\n",
              " 'feedback': 969,\n",
              " 'spent': 970,\n",
              " 'pa': 971,\n",
              " 'combo': 972,\n",
              " 'keeping': 973,\n",
              " 'im': 974,\n",
              " 'hiss': 975,\n",
              " 'possible': 976,\n",
              " 'deep': 977,\n",
              " 'plugs': 978,\n",
              " 'bar': 979,\n",
              " 'loved': 980,\n",
              " 'special': 981,\n",
              " 'later': 982,\n",
              " 'across': 983,\n",
              " 'nearly': 984,\n",
              " 'types': 985,\n",
              " 'white': 986,\n",
              " 'shape': 987,\n",
              " 'pedalboard': 988,\n",
              " 'keeps': 989,\n",
              " 'certain': 990,\n",
              " 'mid': 991,\n",
              " 'sharp': 992,\n",
              " 'fan': 993,\n",
              " 'including': 994,\n",
              " 'presets': 995,\n",
              " 'oh': 996,\n",
              " 'trouble': 997,\n",
              " 'ability': 998,\n",
              " 'forever': 999,\n",
              " 'pre': 1000,\n",
              " ...}"
            ]
          },
          "metadata": {
            "tags": []
          },
          "execution_count": 56
        }
      ]
    },
    {
      "cell_type": "markdown",
      "metadata": {
        "id": "dAu3UYqD1409",
        "colab_type": "text"
      },
      "source": [
        "##**Model Building**\n",
        "\n",
        "Here we have used LSTM algorithm\n",
        "\n",
        " ***What is LSTM ?***\n",
        "\n",
        "LSTM stands for long short term memory. It is a model or architecture that extends the memory of recurrent neural networks. Typically, recurrent neural networks have ‘short term memory’ in that they use persistent previous information to be used in the current neural network. Essentially, the previous information is used in the present task. That means we do not have a list of all of the previous information available for the neural node.\n",
        "\n",
        " \n",
        "**No. of layers**\n",
        "\n",
        "We have used 6 hidden layers and 3 output layer with hidden layer activation function as sigmoid and output layer activation function as sigmoid.\n",
        "\n",
        "\n"
      ]
    },
    {
      "cell_type": "code",
      "metadata": {
        "id": "P7PGspV4Sm1N",
        "colab_type": "code",
        "colab": {}
      },
      "source": [
        "\n",
        "model = tf.keras.Sequential([\n",
        "    tf.keras.layers.Embedding(vocab_size, embedding_dim, input_length=max_length),\n",
        "    tf.keras.layers.Bidirectional(tf.keras.layers.LSTM(32)),\n",
        "    tf.keras.layers.Dense(6, activation='sigmoid'),\n",
        "    tf.keras.layers.Dense(3, activation='sigmoid')\n",
        "])\n",
        "model.compile(loss='categorical_crossentropy',optimizer='adam',metrics=['accuracy'])\n"
      ],
      "execution_count": 0,
      "outputs": []
    },
    {
      "cell_type": "code",
      "metadata": {
        "id": "Cwo5o3LOesdc",
        "colab_type": "code",
        "colab": {}
      },
      "source": [
        "#Categorize training_labels and testing_labels as we are using multiclass classification\n",
        "from keras.utils import to_categorical\n",
        "training_labels = to_categorical(training_labels)\n",
        "testing_labels = to_categorical(testing_labels)\n"
      ],
      "execution_count": 0,
      "outputs": []
    },
    {
      "cell_type": "code",
      "metadata": {
        "id": "0UIgzbYZ2aFF",
        "colab_type": "code",
        "colab": {
          "base_uri": "https://localhost:8080/",
          "height": 308
        },
        "outputId": "9c7a456f-7574-4761-cdfa-7bcac0aaa72c"
      },
      "source": [
        "##Summary of model\n",
        "model.summary()"
      ],
      "execution_count": 61,
      "outputs": [
        {
          "output_type": "stream",
          "text": [
            "Model: \"sequential_2\"\n",
            "_________________________________________________________________\n",
            "Layer (type)                 Output Shape              Param #   \n",
            "=================================================================\n",
            "embedding_2 (Embedding)      (None, 120, 16)           160000    \n",
            "_________________________________________________________________\n",
            "bidirectional_2 (Bidirection (None, 64)                12544     \n",
            "_________________________________________________________________\n",
            "dense_4 (Dense)              (None, 6)                 390       \n",
            "_________________________________________________________________\n",
            "dense_5 (Dense)              (None, 3)                 21        \n",
            "=================================================================\n",
            "Total params: 172,955\n",
            "Trainable params: 172,955\n",
            "Non-trainable params: 0\n",
            "_________________________________________________________________\n"
          ],
          "name": "stdout"
        }
      ]
    },
    {
      "cell_type": "markdown",
      "metadata": {
        "id": "ug8oZaCe2ndm",
        "colab_type": "text"
      },
      "source": [
        "##**Training and validating model**\n",
        "\n",
        "1.   We have used 5 epochs to train\n",
        "2.   No of training data = No of validating data = 5130\n",
        "\n"
      ]
    },
    {
      "cell_type": "code",
      "metadata": {
        "id": "5nF0WpeHSqul",
        "colab_type": "code",
        "outputId": "339074a9-7f57-404c-9324-5f2b6fc040f8",
        "colab": {
          "base_uri": "https://localhost:8080/",
          "height": 219
        }
      },
      "source": [
        "num_epochs = 5\n",
        "history=model.fit(padded, training_labels, epochs=num_epochs, batch_size =32, validation_data=(testing_padded, testing_labels))"
      ],
      "execution_count": 59,
      "outputs": [
        {
          "output_type": "stream",
          "text": [
            "Epoch 1/5\n",
            "161/161 [==============================] - 13s 83ms/step - loss: 0.7252 - accuracy: 0.8287 - val_loss: 0.5784 - val_accuracy: 0.8784\n",
            "Epoch 2/5\n",
            "161/161 [==============================] - 13s 80ms/step - loss: 0.5162 - accuracy: 0.8801 - val_loss: 0.4796 - val_accuracy: 0.8784\n",
            "Epoch 3/5\n",
            "161/161 [==============================] - 13s 80ms/step - loss: 0.4578 - accuracy: 0.8801 - val_loss: 0.4487 - val_accuracy: 0.8784\n",
            "Epoch 4/5\n",
            "161/161 [==============================] - 13s 81ms/step - loss: 0.4370 - accuracy: 0.8801 - val_loss: 0.4361 - val_accuracy: 0.8784\n",
            "Epoch 5/5\n",
            "161/161 [==============================] - 13s 81ms/step - loss: 0.4267 - accuracy: 0.8801 - val_loss: 0.4284 - val_accuracy: 0.8784\n"
          ],
          "name": "stdout"
        }
      ]
    },
    {
      "cell_type": "code",
      "metadata": {
        "id": "5-SdHKJNTPUt",
        "colab_type": "code",
        "colab": {
          "base_uri": "https://localhost:8080/",
          "height": 295
        },
        "outputId": "a24faae8-c8ce-4e88-a3b9-cdafd3a4fb6b"
      },
      "source": [
        "#Plot loss and validation loss graph using history method\n",
        "plt.plot(history.history['loss'])\n",
        "plt.plot(history.history['val_loss'])\n",
        "plt.title('Model loss')\n",
        "plt.ylabel('Loss')\n",
        "plt.xlabel('Epoch')\n",
        "plt.legend(['Train', 'Test'], loc='upper left')\n",
        "plt.show()"
      ],
      "execution_count": 60,
      "outputs": [
        {
          "output_type": "display_data",
          "data": {
            "image/png": "[encoded data removed]",
            "text/plain": [
              "<Figure size 432x288 with 1 Axes>"
            ]
          },
          "metadata": {
            "tags": [],
            "needs_background": "light"
          }
        }
      ]
    },
    {
      "cell_type": "markdown",
      "metadata": {
        "id": "IQGXI0Zp3AHr",
        "colab_type": "text"
      },
      "source": [
        "##**Conclusion**\n",
        "\n",
        "We have implemented LSTM RNN model in our dataet after preprocessing the dataset and concluded that the validating accuracy is **87 %**. \n",
        "\n",
        "which can further be increased by applying diffrent algorithm and using k fold technique in our dataset."
      ]
    }
  ]
}